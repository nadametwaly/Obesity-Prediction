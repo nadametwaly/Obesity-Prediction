{
  "nbformat": 4,
  "nbformat_minor": 0,
  "metadata": {
    "colab": {
      "provenance": [],
      "include_colab_link": true
    },
    "kernelspec": {
      "name": "python3",
      "display_name": "Python 3"
    },
    "language_info": {
      "name": "python"
    }
  },
  "cells": [
    {
      "cell_type": "markdown",
      "metadata": {
        "id": "view-in-github",
        "colab_type": "text"
      },
      "source": [
        "<a href=\"https://colab.research.google.com/github/nadametwaly/Obesity-Prediction/blob/main/G3_Week2_Obesity_Prediction.ipynb\" target=\"_parent\"><img src=\"https://colab.research.google.com/assets/colab-badge.svg\" alt=\"Open In Colab\"/></a>"
      ]
    },
    {
      "cell_type": "markdown",
      "source": [
        "#Review These\n",
        "Overview on Decision Trees: https://www.datacamp.com/community/tutorials/decision-tree-classification-python\n",
        "\n",
        "More on Encoding: https://pbpython.com/categorical-encoding.html"
      ],
      "metadata": {
        "id": "KHDDW8pQnz94"
      }
    },
    {
      "cell_type": "code",
      "source": [
        "from sklearn import tree\n",
        "#import pandas\n",
        "import pandas as pd\n",
        "#import numpy\n",
        "import numpy as np\n"
      ],
      "metadata": {
        "id": "kaN8f2eriLBl"
      },
      "execution_count": 1,
      "outputs": []
    },
    {
      "cell_type": "code",
      "source": [
        "# Run this cell to download the dataset\n",
        "!wget \"https://archive.ics.uci.edu/ml/machine-learning-databases/00544/ObesityDataSet_raw_and_data_sinthetic%20(2).zip\"\n",
        "!unzip \"/content/ObesityDataSet_raw_and_data_sinthetic (2).zip\" "
      ],
      "metadata": {
        "id": "q1KQHnAD1qdy",
        "colab": {
          "base_uri": "https://localhost:8080/"
        },
        "outputId": "71b4337d-363d-46c7-b0a3-dbfc386e4516"
      },
      "execution_count": 2,
      "outputs": [
        {
          "output_type": "stream",
          "name": "stdout",
          "text": [
            "--2022-11-16 19:28:03--  https://archive.ics.uci.edu/ml/machine-learning-databases/00544/ObesityDataSet_raw_and_data_sinthetic%20(2).zip\n",
            "Resolving archive.ics.uci.edu (archive.ics.uci.edu)... 128.195.10.252\n",
            "Connecting to archive.ics.uci.edu (archive.ics.uci.edu)|128.195.10.252|:443... connected.\n",
            "HTTP request sent, awaiting response... 200 OK\n",
            "Length: 119205 (116K) [application/x-httpd-php]\n",
            "Saving to: ‘ObesityDataSet_raw_and_data_sinthetic (2).zip’\n",
            "\n",
            "ObesityDataSet_raw_ 100%[===================>] 116.41K  --.-KB/s    in 0.1s    \n",
            "\n",
            "2022-11-16 19:28:04 (804 KB/s) - ‘ObesityDataSet_raw_and_data_sinthetic (2).zip’ saved [119205/119205]\n",
            "\n",
            "Archive:  /content/ObesityDataSet_raw_and_data_sinthetic (2).zip\n",
            "  inflating: ObesityDataSet_raw_and_data_sinthetic.arff  \n",
            "  inflating: ObesityDataSet_raw_and_data_sinthetic.csv  \n"
          ]
        }
      ]
    },
    {
      "cell_type": "code",
      "source": [
        "#import dataset as a pandas dataframe - name it df - using the .read_csv method\n",
        "dataset = 'ObesityDataSet_raw_and_data_sinthetic.csv'\n",
        "df = pd.read_csv(dataset)"
      ],
      "metadata": {
        "id": "1HExE0dQ7xDt"
      },
      "execution_count": 3,
      "outputs": []
    },
    {
      "cell_type": "code",
      "source": [
        "#view first 5 rows of the dataset using the .head() method\n",
        "df.head()"
      ],
      "metadata": {
        "id": "1qDUVmAl8VYh",
        "colab": {
          "base_uri": "https://localhost:8080/",
          "height": 206
        },
        "outputId": "a9bf4bdf-ca1d-4109-da7a-79760eeed23f"
      },
      "execution_count": 4,
      "outputs": [
        {
          "output_type": "execute_result",
          "data": {
            "text/plain": [
              "   Gender   Age  Height  Weight family_history_with_overweight FAVC  FCVC  \\\n",
              "0  Female  21.0    1.62    64.0                            yes   no   2.0   \n",
              "1  Female  21.0    1.52    56.0                            yes   no   3.0   \n",
              "2    Male  23.0    1.80    77.0                            yes   no   2.0   \n",
              "3    Male  27.0    1.80    87.0                             no   no   3.0   \n",
              "4    Male  22.0    1.78    89.8                             no   no   2.0   \n",
              "\n",
              "   NCP       CAEC SMOKE  CH2O  SCC  FAF  TUE        CALC  \\\n",
              "0  3.0  Sometimes    no   2.0   no  0.0  1.0          no   \n",
              "1  3.0  Sometimes   yes   3.0  yes  3.0  0.0   Sometimes   \n",
              "2  3.0  Sometimes    no   2.0   no  2.0  1.0  Frequently   \n",
              "3  3.0  Sometimes    no   2.0   no  2.0  0.0  Frequently   \n",
              "4  1.0  Sometimes    no   2.0   no  0.0  0.0   Sometimes   \n",
              "\n",
              "                  MTRANS           NObeyesdad  \n",
              "0  Public_Transportation        Normal_Weight  \n",
              "1  Public_Transportation        Normal_Weight  \n",
              "2  Public_Transportation        Normal_Weight  \n",
              "3                Walking   Overweight_Level_I  \n",
              "4  Public_Transportation  Overweight_Level_II  "
            ],
            "text/html": [
              "\n",
              "  <div id=\"df-2f9830fd-2bb1-4514-acf0-ce66e0f48ae1\">\n",
              "    <div class=\"colab-df-container\">\n",
              "      <div>\n",
              "<style scoped>\n",
              "    .dataframe tbody tr th:only-of-type {\n",
              "        vertical-align: middle;\n",
              "    }\n",
              "\n",
              "    .dataframe tbody tr th {\n",
              "        vertical-align: top;\n",
              "    }\n",
              "\n",
              "    .dataframe thead th {\n",
              "        text-align: right;\n",
              "    }\n",
              "</style>\n",
              "<table border=\"1\" class=\"dataframe\">\n",
              "  <thead>\n",
              "    <tr style=\"text-align: right;\">\n",
              "      <th></th>\n",
              "      <th>Gender</th>\n",
              "      <th>Age</th>\n",
              "      <th>Height</th>\n",
              "      <th>Weight</th>\n",
              "      <th>family_history_with_overweight</th>\n",
              "      <th>FAVC</th>\n",
              "      <th>FCVC</th>\n",
              "      <th>NCP</th>\n",
              "      <th>CAEC</th>\n",
              "      <th>SMOKE</th>\n",
              "      <th>CH2O</th>\n",
              "      <th>SCC</th>\n",
              "      <th>FAF</th>\n",
              "      <th>TUE</th>\n",
              "      <th>CALC</th>\n",
              "      <th>MTRANS</th>\n",
              "      <th>NObeyesdad</th>\n",
              "    </tr>\n",
              "  </thead>\n",
              "  <tbody>\n",
              "    <tr>\n",
              "      <th>0</th>\n",
              "      <td>Female</td>\n",
              "      <td>21.0</td>\n",
              "      <td>1.62</td>\n",
              "      <td>64.0</td>\n",
              "      <td>yes</td>\n",
              "      <td>no</td>\n",
              "      <td>2.0</td>\n",
              "      <td>3.0</td>\n",
              "      <td>Sometimes</td>\n",
              "      <td>no</td>\n",
              "      <td>2.0</td>\n",
              "      <td>no</td>\n",
              "      <td>0.0</td>\n",
              "      <td>1.0</td>\n",
              "      <td>no</td>\n",
              "      <td>Public_Transportation</td>\n",
              "      <td>Normal_Weight</td>\n",
              "    </tr>\n",
              "    <tr>\n",
              "      <th>1</th>\n",
              "      <td>Female</td>\n",
              "      <td>21.0</td>\n",
              "      <td>1.52</td>\n",
              "      <td>56.0</td>\n",
              "      <td>yes</td>\n",
              "      <td>no</td>\n",
              "      <td>3.0</td>\n",
              "      <td>3.0</td>\n",
              "      <td>Sometimes</td>\n",
              "      <td>yes</td>\n",
              "      <td>3.0</td>\n",
              "      <td>yes</td>\n",
              "      <td>3.0</td>\n",
              "      <td>0.0</td>\n",
              "      <td>Sometimes</td>\n",
              "      <td>Public_Transportation</td>\n",
              "      <td>Normal_Weight</td>\n",
              "    </tr>\n",
              "    <tr>\n",
              "      <th>2</th>\n",
              "      <td>Male</td>\n",
              "      <td>23.0</td>\n",
              "      <td>1.80</td>\n",
              "      <td>77.0</td>\n",
              "      <td>yes</td>\n",
              "      <td>no</td>\n",
              "      <td>2.0</td>\n",
              "      <td>3.0</td>\n",
              "      <td>Sometimes</td>\n",
              "      <td>no</td>\n",
              "      <td>2.0</td>\n",
              "      <td>no</td>\n",
              "      <td>2.0</td>\n",
              "      <td>1.0</td>\n",
              "      <td>Frequently</td>\n",
              "      <td>Public_Transportation</td>\n",
              "      <td>Normal_Weight</td>\n",
              "    </tr>\n",
              "    <tr>\n",
              "      <th>3</th>\n",
              "      <td>Male</td>\n",
              "      <td>27.0</td>\n",
              "      <td>1.80</td>\n",
              "      <td>87.0</td>\n",
              "      <td>no</td>\n",
              "      <td>no</td>\n",
              "      <td>3.0</td>\n",
              "      <td>3.0</td>\n",
              "      <td>Sometimes</td>\n",
              "      <td>no</td>\n",
              "      <td>2.0</td>\n",
              "      <td>no</td>\n",
              "      <td>2.0</td>\n",
              "      <td>0.0</td>\n",
              "      <td>Frequently</td>\n",
              "      <td>Walking</td>\n",
              "      <td>Overweight_Level_I</td>\n",
              "    </tr>\n",
              "    <tr>\n",
              "      <th>4</th>\n",
              "      <td>Male</td>\n",
              "      <td>22.0</td>\n",
              "      <td>1.78</td>\n",
              "      <td>89.8</td>\n",
              "      <td>no</td>\n",
              "      <td>no</td>\n",
              "      <td>2.0</td>\n",
              "      <td>1.0</td>\n",
              "      <td>Sometimes</td>\n",
              "      <td>no</td>\n",
              "      <td>2.0</td>\n",
              "      <td>no</td>\n",
              "      <td>0.0</td>\n",
              "      <td>0.0</td>\n",
              "      <td>Sometimes</td>\n",
              "      <td>Public_Transportation</td>\n",
              "      <td>Overweight_Level_II</td>\n",
              "    </tr>\n",
              "  </tbody>\n",
              "</table>\n",
              "</div>\n",
              "      <button class=\"colab-df-convert\" onclick=\"convertToInteractive('df-2f9830fd-2bb1-4514-acf0-ce66e0f48ae1')\"\n",
              "              title=\"Convert this dataframe to an interactive table.\"\n",
              "              style=\"display:none;\">\n",
              "        \n",
              "  <svg xmlns=\"http://www.w3.org/2000/svg\" height=\"24px\"viewBox=\"0 0 24 24\"\n",
              "       width=\"24px\">\n",
              "    <path d=\"M0 0h24v24H0V0z\" fill=\"none\"/>\n",
              "    <path d=\"M18.56 5.44l.94 2.06.94-2.06 2.06-.94-2.06-.94-.94-2.06-.94 2.06-2.06.94zm-11 1L8.5 8.5l.94-2.06 2.06-.94-2.06-.94L8.5 2.5l-.94 2.06-2.06.94zm10 10l.94 2.06.94-2.06 2.06-.94-2.06-.94-.94-2.06-.94 2.06-2.06.94z\"/><path d=\"M17.41 7.96l-1.37-1.37c-.4-.4-.92-.59-1.43-.59-.52 0-1.04.2-1.43.59L10.3 9.45l-7.72 7.72c-.78.78-.78 2.05 0 2.83L4 21.41c.39.39.9.59 1.41.59.51 0 1.02-.2 1.41-.59l7.78-7.78 2.81-2.81c.8-.78.8-2.07 0-2.86zM5.41 20L4 18.59l7.72-7.72 1.47 1.35L5.41 20z\"/>\n",
              "  </svg>\n",
              "      </button>\n",
              "      \n",
              "  <style>\n",
              "    .colab-df-container {\n",
              "      display:flex;\n",
              "      flex-wrap:wrap;\n",
              "      gap: 12px;\n",
              "    }\n",
              "\n",
              "    .colab-df-convert {\n",
              "      background-color: #E8F0FE;\n",
              "      border: none;\n",
              "      border-radius: 50%;\n",
              "      cursor: pointer;\n",
              "      display: none;\n",
              "      fill: #1967D2;\n",
              "      height: 32px;\n",
              "      padding: 0 0 0 0;\n",
              "      width: 32px;\n",
              "    }\n",
              "\n",
              "    .colab-df-convert:hover {\n",
              "      background-color: #E2EBFA;\n",
              "      box-shadow: 0px 1px 2px rgba(60, 64, 67, 0.3), 0px 1px 3px 1px rgba(60, 64, 67, 0.15);\n",
              "      fill: #174EA6;\n",
              "    }\n",
              "\n",
              "    [theme=dark] .colab-df-convert {\n",
              "      background-color: #3B4455;\n",
              "      fill: #D2E3FC;\n",
              "    }\n",
              "\n",
              "    [theme=dark] .colab-df-convert:hover {\n",
              "      background-color: #434B5C;\n",
              "      box-shadow: 0px 1px 3px 1px rgba(0, 0, 0, 0.15);\n",
              "      filter: drop-shadow(0px 1px 2px rgba(0, 0, 0, 0.3));\n",
              "      fill: #FFFFFF;\n",
              "    }\n",
              "  </style>\n",
              "\n",
              "      <script>\n",
              "        const buttonEl =\n",
              "          document.querySelector('#df-2f9830fd-2bb1-4514-acf0-ce66e0f48ae1 button.colab-df-convert');\n",
              "        buttonEl.style.display =\n",
              "          google.colab.kernel.accessAllowed ? 'block' : 'none';\n",
              "\n",
              "        async function convertToInteractive(key) {\n",
              "          const element = document.querySelector('#df-2f9830fd-2bb1-4514-acf0-ce66e0f48ae1');\n",
              "          const dataTable =\n",
              "            await google.colab.kernel.invokeFunction('convertToInteractive',\n",
              "                                                     [key], {});\n",
              "          if (!dataTable) return;\n",
              "\n",
              "          const docLinkHtml = 'Like what you see? Visit the ' +\n",
              "            '<a target=\"_blank\" href=https://colab.research.google.com/notebooks/data_table.ipynb>data table notebook</a>'\n",
              "            + ' to learn more about interactive tables.';\n",
              "          element.innerHTML = '';\n",
              "          dataTable['output_type'] = 'display_data';\n",
              "          await google.colab.output.renderOutput(dataTable, element);\n",
              "          const docLink = document.createElement('div');\n",
              "          docLink.innerHTML = docLinkHtml;\n",
              "          element.appendChild(docLink);\n",
              "        }\n",
              "      </script>\n",
              "    </div>\n",
              "  </div>\n",
              "  "
            ]
          },
          "metadata": {},
          "execution_count": 4
        }
      ]
    },
    {
      "cell_type": "code",
      "source": [
        "#check for the total amount of null values in each column using the .isnull() method\n",
        "df.isnull().sum()"
      ],
      "metadata": {
        "id": "iLaq5op38pr0",
        "colab": {
          "base_uri": "https://localhost:8080/"
        },
        "outputId": "c9f56fa4-1a43-4d35-e660-4fc80d50b12d"
      },
      "execution_count": 7,
      "outputs": [
        {
          "output_type": "execute_result",
          "data": {
            "text/plain": [
              "Gender                            0\n",
              "Age                               0\n",
              "Height                            0\n",
              "Weight                            0\n",
              "family_history_with_overweight    0\n",
              "FAVC                              0\n",
              "FCVC                              0\n",
              "NCP                               0\n",
              "CAEC                              0\n",
              "SMOKE                             0\n",
              "CH2O                              0\n",
              "SCC                               0\n",
              "FAF                               0\n",
              "TUE                               0\n",
              "CALC                              0\n",
              "MTRANS                            0\n",
              "NObeyesdad                        0\n",
              "dtype: int64"
            ]
          },
          "metadata": {},
          "execution_count": 7
        }
      ]
    },
    {
      "cell_type": "markdown",
      "source": [
        "Number of Columns"
      ],
      "metadata": {
        "id": "5Hc3U4dojYvL"
      }
    },
    {
      "cell_type": "code",
      "source": [
        "df.shape[1]"
      ],
      "metadata": {
        "id": "3hsndefrjT6E",
        "colab": {
          "base_uri": "https://localhost:8080/"
        },
        "outputId": "247b12e2-fc3b-4bdd-9e98-fb63293d0795"
      },
      "execution_count": 8,
      "outputs": [
        {
          "output_type": "execute_result",
          "data": {
            "text/plain": [
              "17"
            ]
          },
          "metadata": {},
          "execution_count": 8
        }
      ]
    },
    {
      "cell_type": "markdown",
      "source": [
        "Are there any new features that could be derived from our old features?\n"
      ],
      "metadata": {
        "id": "-fEZVXeHkZZA"
      }
    },
    {
      "cell_type": "code",
      "source": [
        "#create a function that takes your df as an input then calculates the BMI using the equation: BMI= Weight/ Height**2\n",
        "def func(df):\n",
        "  BMI=df['Weight']/(df['Height']**2)\n",
        "  return BMI\n"
      ],
      "metadata": {
        "id": "z_Xzsz7ST5oz"
      },
      "execution_count": 11,
      "outputs": []
    },
    {
      "cell_type": "code",
      "source": [
        "# apply the function to every row in the dataframe, create a new column, 'BMI' that contains those values. HINT: You can use .apply and lambda\n",
        "df['BMI'] = func(df)"
      ],
      "metadata": {
        "id": "T7l1tzSyle2h"
      },
      "execution_count": 12,
      "outputs": []
    },
    {
      "cell_type": "code",
      "source": [
        "#check your dataframe\n",
        "df.head()"
      ],
      "metadata": {
        "id": "_oJhojCEmVDu",
        "colab": {
          "base_uri": "https://localhost:8080/",
          "height": 206
        },
        "outputId": "1608ea53-27ae-4c8d-8912-a132ac7142f8"
      },
      "execution_count": 13,
      "outputs": [
        {
          "output_type": "execute_result",
          "data": {
            "text/plain": [
              "   Gender   Age  Height  Weight family_history_with_overweight FAVC  FCVC  \\\n",
              "0  Female  21.0    1.62    64.0                            yes   no   2.0   \n",
              "1  Female  21.0    1.52    56.0                            yes   no   3.0   \n",
              "2    Male  23.0    1.80    77.0                            yes   no   2.0   \n",
              "3    Male  27.0    1.80    87.0                             no   no   3.0   \n",
              "4    Male  22.0    1.78    89.8                             no   no   2.0   \n",
              "\n",
              "   NCP       CAEC SMOKE  CH2O  SCC  FAF  TUE        CALC  \\\n",
              "0  3.0  Sometimes    no   2.0   no  0.0  1.0          no   \n",
              "1  3.0  Sometimes   yes   3.0  yes  3.0  0.0   Sometimes   \n",
              "2  3.0  Sometimes    no   2.0   no  2.0  1.0  Frequently   \n",
              "3  3.0  Sometimes    no   2.0   no  2.0  0.0  Frequently   \n",
              "4  1.0  Sometimes    no   2.0   no  0.0  0.0   Sometimes   \n",
              "\n",
              "                  MTRANS           NObeyesdad        BMI  \n",
              "0  Public_Transportation        Normal_Weight  24.386526  \n",
              "1  Public_Transportation        Normal_Weight  24.238227  \n",
              "2  Public_Transportation        Normal_Weight  23.765432  \n",
              "3                Walking   Overweight_Level_I  26.851852  \n",
              "4  Public_Transportation  Overweight_Level_II  28.342381  "
            ],
            "text/html": [
              "\n",
              "  <div id=\"df-77711832-3d1c-4390-89ee-79d3c5e745b5\">\n",
              "    <div class=\"colab-df-container\">\n",
              "      <div>\n",
              "<style scoped>\n",
              "    .dataframe tbody tr th:only-of-type {\n",
              "        vertical-align: middle;\n",
              "    }\n",
              "\n",
              "    .dataframe tbody tr th {\n",
              "        vertical-align: top;\n",
              "    }\n",
              "\n",
              "    .dataframe thead th {\n",
              "        text-align: right;\n",
              "    }\n",
              "</style>\n",
              "<table border=\"1\" class=\"dataframe\">\n",
              "  <thead>\n",
              "    <tr style=\"text-align: right;\">\n",
              "      <th></th>\n",
              "      <th>Gender</th>\n",
              "      <th>Age</th>\n",
              "      <th>Height</th>\n",
              "      <th>Weight</th>\n",
              "      <th>family_history_with_overweight</th>\n",
              "      <th>FAVC</th>\n",
              "      <th>FCVC</th>\n",
              "      <th>NCP</th>\n",
              "      <th>CAEC</th>\n",
              "      <th>SMOKE</th>\n",
              "      <th>CH2O</th>\n",
              "      <th>SCC</th>\n",
              "      <th>FAF</th>\n",
              "      <th>TUE</th>\n",
              "      <th>CALC</th>\n",
              "      <th>MTRANS</th>\n",
              "      <th>NObeyesdad</th>\n",
              "      <th>BMI</th>\n",
              "    </tr>\n",
              "  </thead>\n",
              "  <tbody>\n",
              "    <tr>\n",
              "      <th>0</th>\n",
              "      <td>Female</td>\n",
              "      <td>21.0</td>\n",
              "      <td>1.62</td>\n",
              "      <td>64.0</td>\n",
              "      <td>yes</td>\n",
              "      <td>no</td>\n",
              "      <td>2.0</td>\n",
              "      <td>3.0</td>\n",
              "      <td>Sometimes</td>\n",
              "      <td>no</td>\n",
              "      <td>2.0</td>\n",
              "      <td>no</td>\n",
              "      <td>0.0</td>\n",
              "      <td>1.0</td>\n",
              "      <td>no</td>\n",
              "      <td>Public_Transportation</td>\n",
              "      <td>Normal_Weight</td>\n",
              "      <td>24.386526</td>\n",
              "    </tr>\n",
              "    <tr>\n",
              "      <th>1</th>\n",
              "      <td>Female</td>\n",
              "      <td>21.0</td>\n",
              "      <td>1.52</td>\n",
              "      <td>56.0</td>\n",
              "      <td>yes</td>\n",
              "      <td>no</td>\n",
              "      <td>3.0</td>\n",
              "      <td>3.0</td>\n",
              "      <td>Sometimes</td>\n",
              "      <td>yes</td>\n",
              "      <td>3.0</td>\n",
              "      <td>yes</td>\n",
              "      <td>3.0</td>\n",
              "      <td>0.0</td>\n",
              "      <td>Sometimes</td>\n",
              "      <td>Public_Transportation</td>\n",
              "      <td>Normal_Weight</td>\n",
              "      <td>24.238227</td>\n",
              "    </tr>\n",
              "    <tr>\n",
              "      <th>2</th>\n",
              "      <td>Male</td>\n",
              "      <td>23.0</td>\n",
              "      <td>1.80</td>\n",
              "      <td>77.0</td>\n",
              "      <td>yes</td>\n",
              "      <td>no</td>\n",
              "      <td>2.0</td>\n",
              "      <td>3.0</td>\n",
              "      <td>Sometimes</td>\n",
              "      <td>no</td>\n",
              "      <td>2.0</td>\n",
              "      <td>no</td>\n",
              "      <td>2.0</td>\n",
              "      <td>1.0</td>\n",
              "      <td>Frequently</td>\n",
              "      <td>Public_Transportation</td>\n",
              "      <td>Normal_Weight</td>\n",
              "      <td>23.765432</td>\n",
              "    </tr>\n",
              "    <tr>\n",
              "      <th>3</th>\n",
              "      <td>Male</td>\n",
              "      <td>27.0</td>\n",
              "      <td>1.80</td>\n",
              "      <td>87.0</td>\n",
              "      <td>no</td>\n",
              "      <td>no</td>\n",
              "      <td>3.0</td>\n",
              "      <td>3.0</td>\n",
              "      <td>Sometimes</td>\n",
              "      <td>no</td>\n",
              "      <td>2.0</td>\n",
              "      <td>no</td>\n",
              "      <td>2.0</td>\n",
              "      <td>0.0</td>\n",
              "      <td>Frequently</td>\n",
              "      <td>Walking</td>\n",
              "      <td>Overweight_Level_I</td>\n",
              "      <td>26.851852</td>\n",
              "    </tr>\n",
              "    <tr>\n",
              "      <th>4</th>\n",
              "      <td>Male</td>\n",
              "      <td>22.0</td>\n",
              "      <td>1.78</td>\n",
              "      <td>89.8</td>\n",
              "      <td>no</td>\n",
              "      <td>no</td>\n",
              "      <td>2.0</td>\n",
              "      <td>1.0</td>\n",
              "      <td>Sometimes</td>\n",
              "      <td>no</td>\n",
              "      <td>2.0</td>\n",
              "      <td>no</td>\n",
              "      <td>0.0</td>\n",
              "      <td>0.0</td>\n",
              "      <td>Sometimes</td>\n",
              "      <td>Public_Transportation</td>\n",
              "      <td>Overweight_Level_II</td>\n",
              "      <td>28.342381</td>\n",
              "    </tr>\n",
              "  </tbody>\n",
              "</table>\n",
              "</div>\n",
              "      <button class=\"colab-df-convert\" onclick=\"convertToInteractive('df-77711832-3d1c-4390-89ee-79d3c5e745b5')\"\n",
              "              title=\"Convert this dataframe to an interactive table.\"\n",
              "              style=\"display:none;\">\n",
              "        \n",
              "  <svg xmlns=\"http://www.w3.org/2000/svg\" height=\"24px\"viewBox=\"0 0 24 24\"\n",
              "       width=\"24px\">\n",
              "    <path d=\"M0 0h24v24H0V0z\" fill=\"none\"/>\n",
              "    <path d=\"M18.56 5.44l.94 2.06.94-2.06 2.06-.94-2.06-.94-.94-2.06-.94 2.06-2.06.94zm-11 1L8.5 8.5l.94-2.06 2.06-.94-2.06-.94L8.5 2.5l-.94 2.06-2.06.94zm10 10l.94 2.06.94-2.06 2.06-.94-2.06-.94-.94-2.06-.94 2.06-2.06.94z\"/><path d=\"M17.41 7.96l-1.37-1.37c-.4-.4-.92-.59-1.43-.59-.52 0-1.04.2-1.43.59L10.3 9.45l-7.72 7.72c-.78.78-.78 2.05 0 2.83L4 21.41c.39.39.9.59 1.41.59.51 0 1.02-.2 1.41-.59l7.78-7.78 2.81-2.81c.8-.78.8-2.07 0-2.86zM5.41 20L4 18.59l7.72-7.72 1.47 1.35L5.41 20z\"/>\n",
              "  </svg>\n",
              "      </button>\n",
              "      \n",
              "  <style>\n",
              "    .colab-df-container {\n",
              "      display:flex;\n",
              "      flex-wrap:wrap;\n",
              "      gap: 12px;\n",
              "    }\n",
              "\n",
              "    .colab-df-convert {\n",
              "      background-color: #E8F0FE;\n",
              "      border: none;\n",
              "      border-radius: 50%;\n",
              "      cursor: pointer;\n",
              "      display: none;\n",
              "      fill: #1967D2;\n",
              "      height: 32px;\n",
              "      padding: 0 0 0 0;\n",
              "      width: 32px;\n",
              "    }\n",
              "\n",
              "    .colab-df-convert:hover {\n",
              "      background-color: #E2EBFA;\n",
              "      box-shadow: 0px 1px 2px rgba(60, 64, 67, 0.3), 0px 1px 3px 1px rgba(60, 64, 67, 0.15);\n",
              "      fill: #174EA6;\n",
              "    }\n",
              "\n",
              "    [theme=dark] .colab-df-convert {\n",
              "      background-color: #3B4455;\n",
              "      fill: #D2E3FC;\n",
              "    }\n",
              "\n",
              "    [theme=dark] .colab-df-convert:hover {\n",
              "      background-color: #434B5C;\n",
              "      box-shadow: 0px 1px 3px 1px rgba(0, 0, 0, 0.15);\n",
              "      filter: drop-shadow(0px 1px 2px rgba(0, 0, 0, 0.3));\n",
              "      fill: #FFFFFF;\n",
              "    }\n",
              "  </style>\n",
              "\n",
              "      <script>\n",
              "        const buttonEl =\n",
              "          document.querySelector('#df-77711832-3d1c-4390-89ee-79d3c5e745b5 button.colab-df-convert');\n",
              "        buttonEl.style.display =\n",
              "          google.colab.kernel.accessAllowed ? 'block' : 'none';\n",
              "\n",
              "        async function convertToInteractive(key) {\n",
              "          const element = document.querySelector('#df-77711832-3d1c-4390-89ee-79d3c5e745b5');\n",
              "          const dataTable =\n",
              "            await google.colab.kernel.invokeFunction('convertToInteractive',\n",
              "                                                     [key], {});\n",
              "          if (!dataTable) return;\n",
              "\n",
              "          const docLinkHtml = 'Like what you see? Visit the ' +\n",
              "            '<a target=\"_blank\" href=https://colab.research.google.com/notebooks/data_table.ipynb>data table notebook</a>'\n",
              "            + ' to learn more about interactive tables.';\n",
              "          element.innerHTML = '';\n",
              "          dataTable['output_type'] = 'display_data';\n",
              "          await google.colab.output.renderOutput(dataTable, element);\n",
              "          const docLink = document.createElement('div');\n",
              "          docLink.innerHTML = docLinkHtml;\n",
              "          element.appendChild(docLink);\n",
              "        }\n",
              "      </script>\n",
              "    </div>\n",
              "  </div>\n",
              "  "
            ]
          },
          "metadata": {},
          "execution_count": 13
        }
      ]
    },
    {
      "cell_type": "markdown",
      "source": [
        "Drop old features, i.e: height and weight"
      ],
      "metadata": {
        "id": "Z8WDY8NYmgV_"
      }
    },
    {
      "cell_type": "code",
      "source": [
        "#use .drop() method to your dataframe, don't forget to set inplace=True\n",
        "df.drop(['Weight','Height'],inplace=True,axis=1)"
      ],
      "metadata": {
        "id": "QoKH8bvKmfa5"
      },
      "execution_count": 19,
      "outputs": []
    },
    {
      "cell_type": "code",
      "source": [
        "#check your dataframe\n",
        "df.head()"
      ],
      "metadata": {
        "id": "xogev9ninFNi",
        "colab": {
          "base_uri": "https://localhost:8080/",
          "height": 206
        },
        "outputId": "2b324e2b-d120-4816-f7a4-7775d4bfed74"
      },
      "execution_count": 20,
      "outputs": [
        {
          "output_type": "execute_result",
          "data": {
            "text/plain": [
              "   Gender   Age family_history_with_overweight FAVC  FCVC  NCP       CAEC  \\\n",
              "0  Female  21.0                            yes   no   2.0  3.0  Sometimes   \n",
              "1  Female  21.0                            yes   no   3.0  3.0  Sometimes   \n",
              "2    Male  23.0                            yes   no   2.0  3.0  Sometimes   \n",
              "3    Male  27.0                             no   no   3.0  3.0  Sometimes   \n",
              "4    Male  22.0                             no   no   2.0  1.0  Sometimes   \n",
              "\n",
              "  SMOKE  CH2O  SCC  FAF  TUE        CALC                 MTRANS  \\\n",
              "0    no   2.0   no  0.0  1.0          no  Public_Transportation   \n",
              "1   yes   3.0  yes  3.0  0.0   Sometimes  Public_Transportation   \n",
              "2    no   2.0   no  2.0  1.0  Frequently  Public_Transportation   \n",
              "3    no   2.0   no  2.0  0.0  Frequently                Walking   \n",
              "4    no   2.0   no  0.0  0.0   Sometimes  Public_Transportation   \n",
              "\n",
              "            NObeyesdad        BMI  \n",
              "0        Normal_Weight  24.386526  \n",
              "1        Normal_Weight  24.238227  \n",
              "2        Normal_Weight  23.765432  \n",
              "3   Overweight_Level_I  26.851852  \n",
              "4  Overweight_Level_II  28.342381  "
            ],
            "text/html": [
              "\n",
              "  <div id=\"df-8a17129a-f30e-4602-9675-29c80b323ac6\">\n",
              "    <div class=\"colab-df-container\">\n",
              "      <div>\n",
              "<style scoped>\n",
              "    .dataframe tbody tr th:only-of-type {\n",
              "        vertical-align: middle;\n",
              "    }\n",
              "\n",
              "    .dataframe tbody tr th {\n",
              "        vertical-align: top;\n",
              "    }\n",
              "\n",
              "    .dataframe thead th {\n",
              "        text-align: right;\n",
              "    }\n",
              "</style>\n",
              "<table border=\"1\" class=\"dataframe\">\n",
              "  <thead>\n",
              "    <tr style=\"text-align: right;\">\n",
              "      <th></th>\n",
              "      <th>Gender</th>\n",
              "      <th>Age</th>\n",
              "      <th>family_history_with_overweight</th>\n",
              "      <th>FAVC</th>\n",
              "      <th>FCVC</th>\n",
              "      <th>NCP</th>\n",
              "      <th>CAEC</th>\n",
              "      <th>SMOKE</th>\n",
              "      <th>CH2O</th>\n",
              "      <th>SCC</th>\n",
              "      <th>FAF</th>\n",
              "      <th>TUE</th>\n",
              "      <th>CALC</th>\n",
              "      <th>MTRANS</th>\n",
              "      <th>NObeyesdad</th>\n",
              "      <th>BMI</th>\n",
              "    </tr>\n",
              "  </thead>\n",
              "  <tbody>\n",
              "    <tr>\n",
              "      <th>0</th>\n",
              "      <td>Female</td>\n",
              "      <td>21.0</td>\n",
              "      <td>yes</td>\n",
              "      <td>no</td>\n",
              "      <td>2.0</td>\n",
              "      <td>3.0</td>\n",
              "      <td>Sometimes</td>\n",
              "      <td>no</td>\n",
              "      <td>2.0</td>\n",
              "      <td>no</td>\n",
              "      <td>0.0</td>\n",
              "      <td>1.0</td>\n",
              "      <td>no</td>\n",
              "      <td>Public_Transportation</td>\n",
              "      <td>Normal_Weight</td>\n",
              "      <td>24.386526</td>\n",
              "    </tr>\n",
              "    <tr>\n",
              "      <th>1</th>\n",
              "      <td>Female</td>\n",
              "      <td>21.0</td>\n",
              "      <td>yes</td>\n",
              "      <td>no</td>\n",
              "      <td>3.0</td>\n",
              "      <td>3.0</td>\n",
              "      <td>Sometimes</td>\n",
              "      <td>yes</td>\n",
              "      <td>3.0</td>\n",
              "      <td>yes</td>\n",
              "      <td>3.0</td>\n",
              "      <td>0.0</td>\n",
              "      <td>Sometimes</td>\n",
              "      <td>Public_Transportation</td>\n",
              "      <td>Normal_Weight</td>\n",
              "      <td>24.238227</td>\n",
              "    </tr>\n",
              "    <tr>\n",
              "      <th>2</th>\n",
              "      <td>Male</td>\n",
              "      <td>23.0</td>\n",
              "      <td>yes</td>\n",
              "      <td>no</td>\n",
              "      <td>2.0</td>\n",
              "      <td>3.0</td>\n",
              "      <td>Sometimes</td>\n",
              "      <td>no</td>\n",
              "      <td>2.0</td>\n",
              "      <td>no</td>\n",
              "      <td>2.0</td>\n",
              "      <td>1.0</td>\n",
              "      <td>Frequently</td>\n",
              "      <td>Public_Transportation</td>\n",
              "      <td>Normal_Weight</td>\n",
              "      <td>23.765432</td>\n",
              "    </tr>\n",
              "    <tr>\n",
              "      <th>3</th>\n",
              "      <td>Male</td>\n",
              "      <td>27.0</td>\n",
              "      <td>no</td>\n",
              "      <td>no</td>\n",
              "      <td>3.0</td>\n",
              "      <td>3.0</td>\n",
              "      <td>Sometimes</td>\n",
              "      <td>no</td>\n",
              "      <td>2.0</td>\n",
              "      <td>no</td>\n",
              "      <td>2.0</td>\n",
              "      <td>0.0</td>\n",
              "      <td>Frequently</td>\n",
              "      <td>Walking</td>\n",
              "      <td>Overweight_Level_I</td>\n",
              "      <td>26.851852</td>\n",
              "    </tr>\n",
              "    <tr>\n",
              "      <th>4</th>\n",
              "      <td>Male</td>\n",
              "      <td>22.0</td>\n",
              "      <td>no</td>\n",
              "      <td>no</td>\n",
              "      <td>2.0</td>\n",
              "      <td>1.0</td>\n",
              "      <td>Sometimes</td>\n",
              "      <td>no</td>\n",
              "      <td>2.0</td>\n",
              "      <td>no</td>\n",
              "      <td>0.0</td>\n",
              "      <td>0.0</td>\n",
              "      <td>Sometimes</td>\n",
              "      <td>Public_Transportation</td>\n",
              "      <td>Overweight_Level_II</td>\n",
              "      <td>28.342381</td>\n",
              "    </tr>\n",
              "  </tbody>\n",
              "</table>\n",
              "</div>\n",
              "      <button class=\"colab-df-convert\" onclick=\"convertToInteractive('df-8a17129a-f30e-4602-9675-29c80b323ac6')\"\n",
              "              title=\"Convert this dataframe to an interactive table.\"\n",
              "              style=\"display:none;\">\n",
              "        \n",
              "  <svg xmlns=\"http://www.w3.org/2000/svg\" height=\"24px\"viewBox=\"0 0 24 24\"\n",
              "       width=\"24px\">\n",
              "    <path d=\"M0 0h24v24H0V0z\" fill=\"none\"/>\n",
              "    <path d=\"M18.56 5.44l.94 2.06.94-2.06 2.06-.94-2.06-.94-.94-2.06-.94 2.06-2.06.94zm-11 1L8.5 8.5l.94-2.06 2.06-.94-2.06-.94L8.5 2.5l-.94 2.06-2.06.94zm10 10l.94 2.06.94-2.06 2.06-.94-2.06-.94-.94-2.06-.94 2.06-2.06.94z\"/><path d=\"M17.41 7.96l-1.37-1.37c-.4-.4-.92-.59-1.43-.59-.52 0-1.04.2-1.43.59L10.3 9.45l-7.72 7.72c-.78.78-.78 2.05 0 2.83L4 21.41c.39.39.9.59 1.41.59.51 0 1.02-.2 1.41-.59l7.78-7.78 2.81-2.81c.8-.78.8-2.07 0-2.86zM5.41 20L4 18.59l7.72-7.72 1.47 1.35L5.41 20z\"/>\n",
              "  </svg>\n",
              "      </button>\n",
              "      \n",
              "  <style>\n",
              "    .colab-df-container {\n",
              "      display:flex;\n",
              "      flex-wrap:wrap;\n",
              "      gap: 12px;\n",
              "    }\n",
              "\n",
              "    .colab-df-convert {\n",
              "      background-color: #E8F0FE;\n",
              "      border: none;\n",
              "      border-radius: 50%;\n",
              "      cursor: pointer;\n",
              "      display: none;\n",
              "      fill: #1967D2;\n",
              "      height: 32px;\n",
              "      padding: 0 0 0 0;\n",
              "      width: 32px;\n",
              "    }\n",
              "\n",
              "    .colab-df-convert:hover {\n",
              "      background-color: #E2EBFA;\n",
              "      box-shadow: 0px 1px 2px rgba(60, 64, 67, 0.3), 0px 1px 3px 1px rgba(60, 64, 67, 0.15);\n",
              "      fill: #174EA6;\n",
              "    }\n",
              "\n",
              "    [theme=dark] .colab-df-convert {\n",
              "      background-color: #3B4455;\n",
              "      fill: #D2E3FC;\n",
              "    }\n",
              "\n",
              "    [theme=dark] .colab-df-convert:hover {\n",
              "      background-color: #434B5C;\n",
              "      box-shadow: 0px 1px 3px 1px rgba(0, 0, 0, 0.15);\n",
              "      filter: drop-shadow(0px 1px 2px rgba(0, 0, 0, 0.3));\n",
              "      fill: #FFFFFF;\n",
              "    }\n",
              "  </style>\n",
              "\n",
              "      <script>\n",
              "        const buttonEl =\n",
              "          document.querySelector('#df-8a17129a-f30e-4602-9675-29c80b323ac6 button.colab-df-convert');\n",
              "        buttonEl.style.display =\n",
              "          google.colab.kernel.accessAllowed ? 'block' : 'none';\n",
              "\n",
              "        async function convertToInteractive(key) {\n",
              "          const element = document.querySelector('#df-8a17129a-f30e-4602-9675-29c80b323ac6');\n",
              "          const dataTable =\n",
              "            await google.colab.kernel.invokeFunction('convertToInteractive',\n",
              "                                                     [key], {});\n",
              "          if (!dataTable) return;\n",
              "\n",
              "          const docLinkHtml = 'Like what you see? Visit the ' +\n",
              "            '<a target=\"_blank\" href=https://colab.research.google.com/notebooks/data_table.ipynb>data table notebook</a>'\n",
              "            + ' to learn more about interactive tables.';\n",
              "          element.innerHTML = '';\n",
              "          dataTable['output_type'] = 'display_data';\n",
              "          await google.colab.output.renderOutput(dataTable, element);\n",
              "          const docLink = document.createElement('div');\n",
              "          docLink.innerHTML = docLinkHtml;\n",
              "          element.appendChild(docLink);\n",
              "        }\n",
              "      </script>\n",
              "    </div>\n",
              "  </div>\n",
              "  "
            ]
          },
          "metadata": {},
          "execution_count": 20
        }
      ]
    },
    {
      "cell_type": "code",
      "source": [
        "#check your columns' data types using the .dtypes method"
      ],
      "metadata": {
        "id": "9nhPFdZlnJ0C"
      },
      "execution_count": null,
      "outputs": []
    },
    {
      "cell_type": "markdown",
      "source": [
        "Check the unique values in your target label"
      ],
      "metadata": {
        "id": "-MwHf3HSVnEh"
      }
    },
    {
      "cell_type": "code",
      "source": [
        "df['NObeyesdad'].unique()"
      ],
      "metadata": {
        "id": "Do_QiKHtW29H",
        "colab": {
          "base_uri": "https://localhost:8080/"
        },
        "outputId": "45fb3dad-1d4b-432e-eead-b9655a55fc56"
      },
      "execution_count": 21,
      "outputs": [
        {
          "output_type": "execute_result",
          "data": {
            "text/plain": [
              "array(['Normal_Weight', 'Overweight_Level_I', 'Overweight_Level_II',\n",
              "       'Obesity_Type_I', 'Insufficient_Weight', 'Obesity_Type_II',\n",
              "       'Obesity_Type_III'], dtype=object)"
            ]
          },
          "metadata": {},
          "execution_count": 21
        }
      ]
    },
    {
      "cell_type": "markdown",
      "source": [
        "Create two Dataframes of Features X and Output Y"
      ],
      "metadata": {
        "id": "1qCxbUBHpex9"
      }
    },
    {
      "cell_type": "code",
      "source": [
        "X =  df.drop(['NObeyesdad'],axis=1)"
      ],
      "metadata": {
        "id": "_lfelm2OporC"
      },
      "execution_count": 23,
      "outputs": []
    },
    {
      "cell_type": "code",
      "source": [
        "y = df[['NObeyesdad']]\n"
      ],
      "metadata": {
        "id": "Jxe1BsR-Vs1e"
      },
      "execution_count": 40,
      "outputs": []
    },
    {
      "cell_type": "markdown",
      "source": [
        "Change column name to something that makes sense"
      ],
      "metadata": {
        "id": "ElVqGPwUXb9z"
      }
    },
    {
      "cell_type": "code",
      "source": [
        "#replace newcolumname\n",
        "y.rename(columns= {'NObeyesdad': 'obesity '}, inplace= True)"
      ],
      "metadata": {
        "id": "nhgfj6vYXfBu",
        "colab": {
          "base_uri": "https://localhost:8080/"
        },
        "outputId": "a4e42237-e9ad-4364-e1d7-d6a2691ab95f"
      },
      "execution_count": 41,
      "outputs": [
        {
          "output_type": "stream",
          "name": "stderr",
          "text": [
            "/usr/local/lib/python3.7/dist-packages/pandas/core/frame.py:5047: SettingWithCopyWarning: \n",
            "A value is trying to be set on a copy of a slice from a DataFrame\n",
            "\n",
            "See the caveats in the documentation: https://pandas.pydata.org/pandas-docs/stable/user_guide/indexing.html#returning-a-view-versus-a-copy\n",
            "  errors=errors,\n"
          ]
        }
      ]
    },
    {
      "cell_type": "markdown",
      "source": [
        "Encode your Catgorical Features"
      ],
      "metadata": {
        "id": "4ZjFVVZvjEPS"
      }
    },
    {
      "cell_type": "code",
      "source": [
        "X_encoded = pd.get_dummies(X)"
      ],
      "metadata": {
        "id": "dPOlXs8mjJm5"
      },
      "execution_count": 42,
      "outputs": []
    },
    {
      "cell_type": "code",
      "source": [
        "X_encoded.columns"
      ],
      "metadata": {
        "id": "x_l6OtBlWX1O",
        "colab": {
          "base_uri": "https://localhost:8080/"
        },
        "outputId": "f1d6f53c-bffd-4887-ac6b-175a239d1b6d"
      },
      "execution_count": 43,
      "outputs": [
        {
          "output_type": "execute_result",
          "data": {
            "text/plain": [
              "Index(['Age', 'FCVC', 'NCP', 'CH2O', 'FAF', 'TUE', 'BMI', 'Gender_Female',\n",
              "       'Gender_Male', 'family_history_with_overweight_no',\n",
              "       'family_history_with_overweight_yes', 'FAVC_no', 'FAVC_yes',\n",
              "       'CAEC_Always', 'CAEC_Frequently', 'CAEC_Sometimes', 'CAEC_no',\n",
              "       'SMOKE_no', 'SMOKE_yes', 'SCC_no', 'SCC_yes', 'CALC_Always',\n",
              "       'CALC_Frequently', 'CALC_Sometimes', 'CALC_no', 'MTRANS_Automobile',\n",
              "       'MTRANS_Bike', 'MTRANS_Motorbike', 'MTRANS_Public_Transportation',\n",
              "       'MTRANS_Walking'],\n",
              "      dtype='object')"
            ]
          },
          "metadata": {},
          "execution_count": 43
        }
      ]
    },
    {
      "cell_type": "markdown",
      "source": [
        "*Perform* label encoding to y"
      ],
      "metadata": {
        "id": "qa2iZg3iRt6x"
      }
    },
    {
      "cell_type": "code",
      "source": [
        "# run this cell to check your label column - y\n",
        "y.columns"
      ],
      "metadata": {
        "id": "yrZOW4LlWbdj",
        "colab": {
          "base_uri": "https://localhost:8080/"
        },
        "outputId": "9b9c6ef1-7c76-465d-dc9e-d361767ffa2c"
      },
      "execution_count": 44,
      "outputs": [
        {
          "output_type": "execute_result",
          "data": {
            "text/plain": [
              "Index(['obesity '], dtype='object')"
            ]
          },
          "metadata": {},
          "execution_count": 44
        }
      ]
    },
    {
      "cell_type": "code",
      "source": [
        "# import preprocessing module from sklearn\n",
        "from sklearn import preprocessing\n",
        "#initialize label encoder\n",
        "le = preprocessing.LabelEncoder()\n",
        "y['obesity ']=le.fit_transform(y['obesity '])\n",
        "\n",
        "# fit the data to your initialized label encoder\n"
      ],
      "metadata": {
        "id": "qP7hHfyl6YX4",
        "colab": {
          "base_uri": "https://localhost:8080/"
        },
        "outputId": "4b33b609-e0ab-4277-85d9-ab821c582acc"
      },
      "execution_count": 47,
      "outputs": [
        {
          "output_type": "stream",
          "name": "stderr",
          "text": [
            "/usr/local/lib/python3.7/dist-packages/ipykernel_launcher.py:5: SettingWithCopyWarning: \n",
            "A value is trying to be set on a copy of a slice from a DataFrame.\n",
            "Try using .loc[row_indexer,col_indexer] = value instead\n",
            "\n",
            "See the caveats in the documentation: https://pandas.pydata.org/pandas-docs/stable/user_guide/indexing.html#returning-a-view-versus-a-copy\n",
            "  \"\"\"\n"
          ]
        }
      ]
    },
    {
      "cell_type": "code",
      "source": [
        "#check unique values for y\n",
        "y['obesity '].unique()"
      ],
      "metadata": {
        "id": "y1GCLUPRXSEM",
        "colab": {
          "base_uri": "https://localhost:8080/"
        },
        "outputId": "abfedacf-2999-411d-91ef-055c526ec65b"
      },
      "execution_count": 49,
      "outputs": [
        {
          "output_type": "execute_result",
          "data": {
            "text/plain": [
              "array([1, 5, 6, 2, 0, 3, 4])"
            ]
          },
          "metadata": {},
          "execution_count": 49
        }
      ]
    },
    {
      "cell_type": "markdown",
      "source": [
        "Normalize so that no feature has more weight over the other, you can use MinMaxScaler"
      ],
      "metadata": {
        "id": "MpvgMijHnknQ"
      }
    },
    {
      "cell_type": "code",
      "source": [
        "#import scaler - you can use MinMaxScaler\n",
        "from sklearn.preprocessing import MinMaxScaler\n",
        "# Initialize a scaler, then apply it to the features\n",
        "scaler = MinMaxScaler()\n",
        "# Create a list of your numerical features\n",
        "numerical = ['Age','FCVC','NCP','CH2O','FAF','TUE','BMI']\n",
        "\n",
        "X_encoded[numerical] = scaler.fit_transform(X_encoded[numerical])\n",
        "\n",
        "# Show an example of a record with scaling applied\n",
        "display(X_encoded.head(n = 1))"
      ],
      "metadata": {
        "id": "N3c0bPgJnce5",
        "colab": {
          "base_uri": "https://localhost:8080/",
          "height": 174
        },
        "outputId": "1e28ec73-c79e-46cf-9abe-48d5e0b467b2"
      },
      "execution_count": 50,
      "outputs": [
        {
          "output_type": "display_data",
          "data": {
            "text/plain": [
              "        Age  FCVC       NCP  CH2O  FAF  TUE       BMI  Gender_Female  \\\n",
              "0  0.148936   0.5  0.666667   0.5  0.0  0.5  0.301162              1   \n",
              "\n",
              "   Gender_Male  family_history_with_overweight_no  ...  SCC_yes  CALC_Always  \\\n",
              "0            0                                  0  ...        0            0   \n",
              "\n",
              "   CALC_Frequently  CALC_Sometimes  CALC_no  MTRANS_Automobile  MTRANS_Bike  \\\n",
              "0                0               0        1                  0            0   \n",
              "\n",
              "   MTRANS_Motorbike  MTRANS_Public_Transportation  MTRANS_Walking  \n",
              "0                 0                             1               0  \n",
              "\n",
              "[1 rows x 30 columns]"
            ],
            "text/html": [
              "\n",
              "  <div id=\"df-ded1649c-0533-4006-8fd5-93776bc8ca2e\">\n",
              "    <div class=\"colab-df-container\">\n",
              "      <div>\n",
              "<style scoped>\n",
              "    .dataframe tbody tr th:only-of-type {\n",
              "        vertical-align: middle;\n",
              "    }\n",
              "\n",
              "    .dataframe tbody tr th {\n",
              "        vertical-align: top;\n",
              "    }\n",
              "\n",
              "    .dataframe thead th {\n",
              "        text-align: right;\n",
              "    }\n",
              "</style>\n",
              "<table border=\"1\" class=\"dataframe\">\n",
              "  <thead>\n",
              "    <tr style=\"text-align: right;\">\n",
              "      <th></th>\n",
              "      <th>Age</th>\n",
              "      <th>FCVC</th>\n",
              "      <th>NCP</th>\n",
              "      <th>CH2O</th>\n",
              "      <th>FAF</th>\n",
              "      <th>TUE</th>\n",
              "      <th>BMI</th>\n",
              "      <th>Gender_Female</th>\n",
              "      <th>Gender_Male</th>\n",
              "      <th>family_history_with_overweight_no</th>\n",
              "      <th>...</th>\n",
              "      <th>SCC_yes</th>\n",
              "      <th>CALC_Always</th>\n",
              "      <th>CALC_Frequently</th>\n",
              "      <th>CALC_Sometimes</th>\n",
              "      <th>CALC_no</th>\n",
              "      <th>MTRANS_Automobile</th>\n",
              "      <th>MTRANS_Bike</th>\n",
              "      <th>MTRANS_Motorbike</th>\n",
              "      <th>MTRANS_Public_Transportation</th>\n",
              "      <th>MTRANS_Walking</th>\n",
              "    </tr>\n",
              "  </thead>\n",
              "  <tbody>\n",
              "    <tr>\n",
              "      <th>0</th>\n",
              "      <td>0.148936</td>\n",
              "      <td>0.5</td>\n",
              "      <td>0.666667</td>\n",
              "      <td>0.5</td>\n",
              "      <td>0.0</td>\n",
              "      <td>0.5</td>\n",
              "      <td>0.301162</td>\n",
              "      <td>1</td>\n",
              "      <td>0</td>\n",
              "      <td>0</td>\n",
              "      <td>...</td>\n",
              "      <td>0</td>\n",
              "      <td>0</td>\n",
              "      <td>0</td>\n",
              "      <td>0</td>\n",
              "      <td>1</td>\n",
              "      <td>0</td>\n",
              "      <td>0</td>\n",
              "      <td>0</td>\n",
              "      <td>1</td>\n",
              "      <td>0</td>\n",
              "    </tr>\n",
              "  </tbody>\n",
              "</table>\n",
              "<p>1 rows × 30 columns</p>\n",
              "</div>\n",
              "      <button class=\"colab-df-convert\" onclick=\"convertToInteractive('df-ded1649c-0533-4006-8fd5-93776bc8ca2e')\"\n",
              "              title=\"Convert this dataframe to an interactive table.\"\n",
              "              style=\"display:none;\">\n",
              "        \n",
              "  <svg xmlns=\"http://www.w3.org/2000/svg\" height=\"24px\"viewBox=\"0 0 24 24\"\n",
              "       width=\"24px\">\n",
              "    <path d=\"M0 0h24v24H0V0z\" fill=\"none\"/>\n",
              "    <path d=\"M18.56 5.44l.94 2.06.94-2.06 2.06-.94-2.06-.94-.94-2.06-.94 2.06-2.06.94zm-11 1L8.5 8.5l.94-2.06 2.06-.94-2.06-.94L8.5 2.5l-.94 2.06-2.06.94zm10 10l.94 2.06.94-2.06 2.06-.94-2.06-.94-.94-2.06-.94 2.06-2.06.94z\"/><path d=\"M17.41 7.96l-1.37-1.37c-.4-.4-.92-.59-1.43-.59-.52 0-1.04.2-1.43.59L10.3 9.45l-7.72 7.72c-.78.78-.78 2.05 0 2.83L4 21.41c.39.39.9.59 1.41.59.51 0 1.02-.2 1.41-.59l7.78-7.78 2.81-2.81c.8-.78.8-2.07 0-2.86zM5.41 20L4 18.59l7.72-7.72 1.47 1.35L5.41 20z\"/>\n",
              "  </svg>\n",
              "      </button>\n",
              "      \n",
              "  <style>\n",
              "    .colab-df-container {\n",
              "      display:flex;\n",
              "      flex-wrap:wrap;\n",
              "      gap: 12px;\n",
              "    }\n",
              "\n",
              "    .colab-df-convert {\n",
              "      background-color: #E8F0FE;\n",
              "      border: none;\n",
              "      border-radius: 50%;\n",
              "      cursor: pointer;\n",
              "      display: none;\n",
              "      fill: #1967D2;\n",
              "      height: 32px;\n",
              "      padding: 0 0 0 0;\n",
              "      width: 32px;\n",
              "    }\n",
              "\n",
              "    .colab-df-convert:hover {\n",
              "      background-color: #E2EBFA;\n",
              "      box-shadow: 0px 1px 2px rgba(60, 64, 67, 0.3), 0px 1px 3px 1px rgba(60, 64, 67, 0.15);\n",
              "      fill: #174EA6;\n",
              "    }\n",
              "\n",
              "    [theme=dark] .colab-df-convert {\n",
              "      background-color: #3B4455;\n",
              "      fill: #D2E3FC;\n",
              "    }\n",
              "\n",
              "    [theme=dark] .colab-df-convert:hover {\n",
              "      background-color: #434B5C;\n",
              "      box-shadow: 0px 1px 3px 1px rgba(0, 0, 0, 0.15);\n",
              "      filter: drop-shadow(0px 1px 2px rgba(0, 0, 0, 0.3));\n",
              "      fill: #FFFFFF;\n",
              "    }\n",
              "  </style>\n",
              "\n",
              "      <script>\n",
              "        const buttonEl =\n",
              "          document.querySelector('#df-ded1649c-0533-4006-8fd5-93776bc8ca2e button.colab-df-convert');\n",
              "        buttonEl.style.display =\n",
              "          google.colab.kernel.accessAllowed ? 'block' : 'none';\n",
              "\n",
              "        async function convertToInteractive(key) {\n",
              "          const element = document.querySelector('#df-ded1649c-0533-4006-8fd5-93776bc8ca2e');\n",
              "          const dataTable =\n",
              "            await google.colab.kernel.invokeFunction('convertToInteractive',\n",
              "                                                     [key], {});\n",
              "          if (!dataTable) return;\n",
              "\n",
              "          const docLinkHtml = 'Like what you see? Visit the ' +\n",
              "            '<a target=\"_blank\" href=https://colab.research.google.com/notebooks/data_table.ipynb>data table notebook</a>'\n",
              "            + ' to learn more about interactive tables.';\n",
              "          element.innerHTML = '';\n",
              "          dataTable['output_type'] = 'display_data';\n",
              "          await google.colab.output.renderOutput(dataTable, element);\n",
              "          const docLink = document.createElement('div');\n",
              "          docLink.innerHTML = docLinkHtml;\n",
              "          element.appendChild(docLink);\n",
              "        }\n",
              "      </script>\n",
              "    </div>\n",
              "  </div>\n",
              "  "
            ]
          },
          "metadata": {}
        }
      ]
    },
    {
      "cell_type": "markdown",
      "source": [
        "Shuffle and split the data using train_test_split"
      ],
      "metadata": {
        "id": "p1v3kQAfZfYe"
      }
    },
    {
      "cell_type": "code",
      "source": [
        "#import train_test_split from sklearn\n",
        "from sklearn.model_selection import train_test_split\n",
        "\n",
        "# Split the 'features' and 'income' data into training and testing sets\n",
        "X_train, X_test, y_train, y_test=train_test_split( X_encoded, y, test_size=0.33, random_state=42)\n",
        "\n",
        "# Show the results of the split\n",
        "print (\"Training set has {} samples.\".format(X_train.shape[0]))\n",
        "print (\"Testing set has {} samples.\".format(X_test.shape[0]))"
      ],
      "metadata": {
        "id": "hJBQia3bn1XP",
        "colab": {
          "base_uri": "https://localhost:8080/"
        },
        "outputId": "fd4f1e76-3543-44d4-beb7-54c7842372f3"
      },
      "execution_count": 56,
      "outputs": [
        {
          "output_type": "stream",
          "name": "stdout",
          "text": [
            "Training set has 1414 samples.\n",
            "Testing set has 697 samples.\n"
          ]
        }
      ]
    },
    {
      "cell_type": "markdown",
      "source": [
        "# Training, Prediction and Evaluation.\n",
        "Choose a classifier: you can use logistic regression, NaiveBayes, SVM, KNN, Decision Trees, Random Forrest. "
      ],
      "metadata": {
        "id": "EltDn6wiairz"
      }
    },
    {
      "cell_type": "code",
      "source": [
        "# Let's use Decision Tree Classifier\n",
        "# import SVM Classifier from Sklearn\n",
        "from sklearn import tree\n",
        "\n",
        "# initilize the classifier\n",
        "model=tree.DecisionTreeClassifier()\n",
        "# fit your classifier to the data using the .fit() method\n",
        "model.fit(X_train,y_train)\n",
        "# predict train set values\n",
        "predict_train=model.predict(X_train)\n",
        "# predict test set values\n",
        "predict_test=model.predict(X_test)"
      ],
      "metadata": {
        "id": "4MD75D0M7wJh"
      },
      "execution_count": 57,
      "outputs": []
    },
    {
      "cell_type": "markdown",
      "source": [
        "Import our evaluation metric"
      ],
      "metadata": {
        "id": "TPvvLUGjXUex"
      }
    },
    {
      "cell_type": "code",
      "source": [
        "# import accuracy_score from sklearn\n",
        "from sklearn.metrics import accuracy_score\n",
        "# check accuracy on training set\n",
        "print(accuracy_score(predict_train,y_train))\n",
        "\n",
        "# check accuracy on testing set\n",
        "accuracy_score(predict_test,y_test)"
      ],
      "metadata": {
        "id": "krXP5sYxaBSM",
        "colab": {
          "base_uri": "https://localhost:8080/"
        },
        "outputId": "49e2add5-26bd-45b4-bcab-1dea3ca6f240"
      },
      "execution_count": 61,
      "outputs": [
        {
          "output_type": "stream",
          "name": "stdout",
          "text": [
            "1.0\n"
          ]
        },
        {
          "output_type": "execute_result",
          "data": {
            "text/plain": [
              "0.9713055954088953"
            ]
          },
          "metadata": {},
          "execution_count": 61
        }
      ]
    },
    {
      "cell_type": "code",
      "source": [
        "# visualize your tree\n",
        "tree.plot_tree(model)"
      ],
      "metadata": {
        "id": "kbBTRkZq8tYo",
        "colab": {
          "base_uri": "https://localhost:8080/",
          "height": 1000
        },
        "outputId": "8c554d5a-3832-4c45-bc58-f2702195360c"
      },
      "execution_count": 64,
      "outputs": [
        {
          "output_type": "execute_result",
          "data": {
            "text/plain": [
              "[Text(0.49764150943396224, 0.95, 'X[6] <= 0.449\\ngini = 0.856\\nsamples = 1414\\nvalue = [182, 184, 237, 203, 209, 196, 203]'),\n",
              " Text(0.16981132075471697, 0.85, 'X[6] <= 0.314\\ngini = 0.75\\nsamples = 763\\nvalue = [182, 184, 0, 0, 0, 196, 201]'),\n",
              " Text(0.05660377358490566, 0.75, 'X[6] <= 0.145\\ngini = 0.511\\nsamples = 370\\nvalue = [182, 184, 0, 0, 0, 4, 0]'),\n",
              " Text(0.03773584905660377, 0.65, 'gini = 0.0\\nsamples = 180\\nvalue = [180, 0, 0, 0, 0, 0, 0]'),\n",
              " Text(0.07547169811320754, 0.65, 'X[6] <= 0.148\\ngini = 0.062\\nsamples = 190\\nvalue = [2, 184, 0, 0, 0, 4, 0]'),\n",
              " Text(0.03773584905660377, 0.55, 'X[23] <= 0.5\\ngini = 0.5\\nsamples = 2\\nvalue = [1, 1, 0, 0, 0, 0, 0]'),\n",
              " Text(0.018867924528301886, 0.45, 'gini = 0.0\\nsamples = 1\\nvalue = [0, 1, 0, 0, 0, 0, 0]'),\n",
              " Text(0.05660377358490566, 0.45, 'gini = 0.0\\nsamples = 1\\nvalue = [1, 0, 0, 0, 0, 0, 0]'),\n",
              " Text(0.11320754716981132, 0.55, 'X[4] <= 0.304\\ngini = 0.052\\nsamples = 188\\nvalue = [1, 183, 0, 0, 0, 4, 0]'),\n",
              " Text(0.09433962264150944, 0.45, 'X[4] <= 0.018\\ngini = 0.194\\nsamples = 47\\nvalue = [1, 42, 0, 0, 0, 4, 0]'),\n",
              " Text(0.07547169811320754, 0.35, 'gini = 0.0\\nsamples = 42\\nvalue = [0, 42, 0, 0, 0, 0, 0]'),\n",
              " Text(0.11320754716981132, 0.35, 'X[2] <= 0.817\\ngini = 0.32\\nsamples = 5\\nvalue = [1, 0, 0, 0, 0, 4, 0]'),\n",
              " Text(0.09433962264150944, 0.25, 'gini = 0.0\\nsamples = 4\\nvalue = [0, 0, 0, 0, 0, 4, 0]'),\n",
              " Text(0.1320754716981132, 0.25, 'gini = 0.0\\nsamples = 1\\nvalue = [1, 0, 0, 0, 0, 0, 0]'),\n",
              " Text(0.1320754716981132, 0.45, 'gini = 0.0\\nsamples = 141\\nvalue = [0, 141, 0, 0, 0, 0, 0]'),\n",
              " Text(0.2830188679245283, 0.75, 'X[6] <= 0.365\\ngini = 0.5\\nsamples = 393\\nvalue = [0, 0, 0, 0, 0, 192, 201]'),\n",
              " Text(0.20754716981132076, 0.65, 'X[12] <= 0.5\\ngini = 0.032\\nsamples = 185\\nvalue = [0, 0, 0, 0, 0, 182, 3]'),\n",
              " Text(0.18867924528301888, 0.55, 'X[2] <= 0.624\\ngini = 0.337\\nsamples = 14\\nvalue = [0, 0, 0, 0, 0, 11, 3]'),\n",
              " Text(0.16981132075471697, 0.45, 'X[4] <= 0.123\\ngini = 0.48\\nsamples = 5\\nvalue = [0, 0, 0, 0, 0, 2, 3]'),\n",
              " Text(0.1509433962264151, 0.35, 'gini = 0.0\\nsamples = 2\\nvalue = [0, 0, 0, 0, 0, 2, 0]'),\n",
              " Text(0.18867924528301888, 0.35, 'gini = 0.0\\nsamples = 3\\nvalue = [0, 0, 0, 0, 0, 0, 3]'),\n",
              " Text(0.20754716981132076, 0.45, 'gini = 0.0\\nsamples = 9\\nvalue = [0, 0, 0, 0, 0, 9, 0]'),\n",
              " Text(0.22641509433962265, 0.55, 'gini = 0.0\\nsamples = 171\\nvalue = [0, 0, 0, 0, 0, 171, 0]'),\n",
              " Text(0.3584905660377358, 0.65, 'X[6] <= 0.37\\ngini = 0.092\\nsamples = 208\\nvalue = [0, 0, 0, 0, 0, 10, 198]'),\n",
              " Text(0.2641509433962264, 0.55, 'X[1] <= 0.49\\ngini = 0.5\\nsamples = 6\\nvalue = [0, 0, 0, 0, 0, 3, 3]'),\n",
              " Text(0.24528301886792453, 0.45, 'gini = 0.0\\nsamples = 2\\nvalue = [0, 0, 0, 0, 0, 0, 2]'),\n",
              " Text(0.2830188679245283, 0.45, 'X[0] <= 0.565\\ngini = 0.375\\nsamples = 4\\nvalue = [0, 0, 0, 0, 0, 3, 1]'),\n",
              " Text(0.2641509433962264, 0.35, 'gini = 0.0\\nsamples = 3\\nvalue = [0, 0, 0, 0, 0, 3, 0]'),\n",
              " Text(0.3018867924528302, 0.35, 'gini = 0.0\\nsamples = 1\\nvalue = [0, 0, 0, 0, 0, 0, 1]'),\n",
              " Text(0.4528301886792453, 0.55, 'X[10] <= 0.5\\ngini = 0.067\\nsamples = 202\\nvalue = [0, 0, 0, 0, 0, 7, 195]'),\n",
              " Text(0.37735849056603776, 0.45, 'X[2] <= 0.676\\ngini = 0.36\\nsamples = 17\\nvalue = [0, 0, 0, 0, 0, 4, 13]'),\n",
              " Text(0.33962264150943394, 0.35, 'X[7] <= 0.5\\ngini = 0.142\\nsamples = 13\\nvalue = [0, 0, 0, 0, 0, 1, 12]'),\n",
              " Text(0.32075471698113206, 0.25, 'gini = 0.0\\nsamples = 11\\nvalue = [0, 0, 0, 0, 0, 0, 11]'),\n",
              " Text(0.3584905660377358, 0.25, 'X[12] <= 0.5\\ngini = 0.5\\nsamples = 2\\nvalue = [0, 0, 0, 0, 0, 1, 1]'),\n",
              " Text(0.33962264150943394, 0.15, 'gini = 0.0\\nsamples = 1\\nvalue = [0, 0, 0, 0, 0, 0, 1]'),\n",
              " Text(0.37735849056603776, 0.15, 'gini = 0.0\\nsamples = 1\\nvalue = [0, 0, 0, 0, 0, 1, 0]'),\n",
              " Text(0.41509433962264153, 0.35, 'X[6] <= 0.433\\ngini = 0.375\\nsamples = 4\\nvalue = [0, 0, 0, 0, 0, 3, 1]'),\n",
              " Text(0.39622641509433965, 0.25, 'gini = 0.0\\nsamples = 3\\nvalue = [0, 0, 0, 0, 0, 3, 0]'),\n",
              " Text(0.4339622641509434, 0.25, 'gini = 0.0\\nsamples = 1\\nvalue = [0, 0, 0, 0, 0, 0, 1]'),\n",
              " Text(0.5283018867924528, 0.45, 'X[0] <= 0.457\\ngini = 0.032\\nsamples = 185\\nvalue = [0, 0, 0, 0, 0, 3, 182]'),\n",
              " Text(0.49056603773584906, 0.35, 'X[3] <= 0.025\\ngini = 0.012\\nsamples = 161\\nvalue = [0, 0, 0, 0, 0, 1, 160]'),\n",
              " Text(0.4716981132075472, 0.25, 'X[3] <= 0.004\\ngini = 0.18\\nsamples = 10\\nvalue = [0, 0, 0, 0, 0, 1, 9]'),\n",
              " Text(0.4528301886792453, 0.15, 'gini = 0.0\\nsamples = 9\\nvalue = [0, 0, 0, 0, 0, 0, 9]'),\n",
              " Text(0.49056603773584906, 0.15, 'gini = 0.0\\nsamples = 1\\nvalue = [0, 0, 0, 0, 0, 1, 0]'),\n",
              " Text(0.5094339622641509, 0.25, 'gini = 0.0\\nsamples = 151\\nvalue = [0, 0, 0, 0, 0, 0, 151]'),\n",
              " Text(0.5660377358490566, 0.35, 'X[0] <= 0.46\\ngini = 0.153\\nsamples = 24\\nvalue = [0, 0, 0, 0, 0, 2, 22]'),\n",
              " Text(0.5471698113207547, 0.25, 'gini = 0.0\\nsamples = 1\\nvalue = [0, 0, 0, 0, 0, 1, 0]'),\n",
              " Text(0.5849056603773585, 0.25, 'X[23] <= 0.5\\ngini = 0.083\\nsamples = 23\\nvalue = [0, 0, 0, 0, 0, 1, 22]'),\n",
              " Text(0.5660377358490566, 0.15, 'gini = 0.0\\nsamples = 20\\nvalue = [0, 0, 0, 0, 0, 0, 20]'),\n",
              " Text(0.6037735849056604, 0.15, 'X[4] <= 0.192\\ngini = 0.444\\nsamples = 3\\nvalue = [0, 0, 0, 0, 0, 1, 2]'),\n",
              " Text(0.5849056603773585, 0.05, 'gini = 0.0\\nsamples = 1\\nvalue = [0, 0, 0, 0, 0, 1, 0]'),\n",
              " Text(0.6226415094339622, 0.05, 'gini = 0.0\\nsamples = 2\\nvalue = [0, 0, 0, 0, 0, 0, 2]'),\n",
              " Text(0.8254716981132075, 0.85, 'X[6] <= 0.574\\ngini = 0.667\\nsamples = 651\\nvalue = [0, 0, 237, 203, 209, 0, 2]'),\n",
              " Text(0.7264150943396226, 0.75, 'X[6] <= 0.566\\ngini = 0.057\\nsamples = 241\\nvalue = [0, 0, 234, 5, 0, 0, 2]'),\n",
              " Text(0.6792452830188679, 0.65, 'X[2] <= 0.667\\ngini = 0.034\\nsamples = 234\\nvalue = [0, 0, 230, 2, 0, 0, 2]'),\n",
              " Text(0.660377358490566, 0.55, 'X[6] <= 0.451\\ngini = 0.025\\nsamples = 233\\nvalue = [0, 0, 230, 2, 0, 0, 1]'),\n",
              " Text(0.6226415094339622, 0.45, 'X[8] <= 0.5\\ngini = 0.5\\nsamples = 2\\nvalue = [0, 0, 1, 0, 0, 0, 1]'),\n",
              " Text(0.6037735849056604, 0.35, 'gini = 0.0\\nsamples = 1\\nvalue = [0, 0, 1, 0, 0, 0, 0]'),\n",
              " Text(0.6415094339622641, 0.35, 'gini = 0.0\\nsamples = 1\\nvalue = [0, 0, 0, 0, 0, 0, 1]'),\n",
              " Text(0.6981132075471698, 0.45, 'X[6] <= 0.556\\ngini = 0.017\\nsamples = 231\\nvalue = [0, 0, 229, 2, 0, 0, 0]'),\n",
              " Text(0.6792452830188679, 0.35, 'gini = 0.0\\nsamples = 219\\nvalue = [0, 0, 219, 0, 0, 0, 0]'),\n",
              " Text(0.7169811320754716, 0.35, 'X[6] <= 0.557\\ngini = 0.278\\nsamples = 12\\nvalue = [0, 0, 10, 2, 0, 0, 0]'),\n",
              " Text(0.6981132075471698, 0.25, 'gini = 0.0\\nsamples = 2\\nvalue = [0, 0, 0, 2, 0, 0, 0]'),\n",
              " Text(0.7358490566037735, 0.25, 'gini = 0.0\\nsamples = 10\\nvalue = [0, 0, 10, 0, 0, 0, 0]'),\n",
              " Text(0.6981132075471698, 0.55, 'gini = 0.0\\nsamples = 1\\nvalue = [0, 0, 0, 0, 0, 0, 1]'),\n",
              " Text(0.7735849056603774, 0.65, 'X[4] <= 0.228\\ngini = 0.49\\nsamples = 7\\nvalue = [0, 0, 4, 3, 0, 0, 0]'),\n",
              " Text(0.7547169811320755, 0.55, 'gini = 0.0\\nsamples = 3\\nvalue = [0, 0, 3, 0, 0, 0, 0]'),\n",
              " Text(0.7924528301886793, 0.55, 'X[0] <= 0.229\\ngini = 0.375\\nsamples = 4\\nvalue = [0, 0, 1, 3, 0, 0, 0]'),\n",
              " Text(0.7735849056603774, 0.45, 'X[6] <= 0.569\\ngini = 0.5\\nsamples = 2\\nvalue = [0, 0, 1, 1, 0, 0, 0]'),\n",
              " Text(0.7547169811320755, 0.35, 'gini = 0.0\\nsamples = 1\\nvalue = [0, 0, 0, 1, 0, 0, 0]'),\n",
              " Text(0.7924528301886793, 0.35, 'gini = 0.0\\nsamples = 1\\nvalue = [0, 0, 1, 0, 0, 0, 0]'),\n",
              " Text(0.8113207547169812, 0.45, 'gini = 0.0\\nsamples = 2\\nvalue = [0, 0, 0, 2, 0, 0, 0]'),\n",
              " Text(0.9245283018867925, 0.75, 'X[7] <= 0.5\\ngini = 0.507\\nsamples = 410\\nvalue = [0, 0, 3, 198, 209, 0, 0]'),\n",
              " Text(0.8867924528301887, 0.65, 'X[6] <= 0.587\\ngini = 0.03\\nsamples = 199\\nvalue = [0, 0, 3, 196, 0, 0, 0]'),\n",
              " Text(0.8679245283018868, 0.55, 'X[4] <= 0.571\\ngini = 0.305\\nsamples = 16\\nvalue = [0, 0, 3, 13, 0, 0, 0]'),\n",
              " Text(0.8490566037735849, 0.45, 'gini = 0.0\\nsamples = 13\\nvalue = [0, 0, 0, 13, 0, 0, 0]'),\n",
              " Text(0.8867924528301887, 0.45, 'gini = 0.0\\nsamples = 3\\nvalue = [0, 0, 3, 0, 0, 0, 0]'),\n",
              " Text(0.9056603773584906, 0.55, 'gini = 0.0\\nsamples = 183\\nvalue = [0, 0, 0, 183, 0, 0, 0]'),\n",
              " Text(0.9622641509433962, 0.65, 'X[3] <= 0.0\\ngini = 0.019\\nsamples = 211\\nvalue = [0, 0, 0, 2, 209, 0, 0]'),\n",
              " Text(0.9433962264150944, 0.55, 'X[6] <= 0.73\\ngini = 0.444\\nsamples = 3\\nvalue = [0, 0, 0, 2, 1, 0, 0]'),\n",
              " Text(0.9245283018867925, 0.45, 'gini = 0.0\\nsamples = 2\\nvalue = [0, 0, 0, 2, 0, 0, 0]'),\n",
              " Text(0.9622641509433962, 0.45, 'gini = 0.0\\nsamples = 1\\nvalue = [0, 0, 0, 0, 1, 0, 0]'),\n",
              " Text(0.9811320754716981, 0.55, 'gini = 0.0\\nsamples = 208\\nvalue = [0, 0, 0, 0, 208, 0, 0]')]"
            ]
          },
          "metadata": {},
          "execution_count": 64
        },
        {
          "output_type": "display_data",
          "data": {
            "text/plain": [
              "<Figure size 432x288 with 1 Axes>"
            ],
            "image/png": "[encoded data removed]"
          },
          "metadata": {
            "needs_background": "light"
          }
        }
      ]
    },
    {
      "cell_type": "code",
      "source": [
        "# check the hyperparameters used\n",
        "model.get_params(deep=True)"
      ],
      "metadata": {
        "id": "NQDzlgH1_l-d",
        "colab": {
          "base_uri": "https://localhost:8080/"
        },
        "outputId": "a44b5893-ebe5-47d1-b368-270956302a6d"
      },
      "execution_count": 65,
      "outputs": [
        {
          "output_type": "execute_result",
          "data": {
            "text/plain": [
              "{'ccp_alpha': 0.0,\n",
              " 'class_weight': None,\n",
              " 'criterion': 'gini',\n",
              " 'max_depth': None,\n",
              " 'max_features': None,\n",
              " 'max_leaf_nodes': None,\n",
              " 'min_impurity_decrease': 0.0,\n",
              " 'min_samples_leaf': 1,\n",
              " 'min_samples_split': 2,\n",
              " 'min_weight_fraction_leaf': 0.0,\n",
              " 'random_state': None,\n",
              " 'splitter': 'best'}"
            ]
          },
          "metadata": {},
          "execution_count": 65
        }
      ]
    },
    {
      "cell_type": "code",
      "source": [
        "# check your tree's depth\n",
        "model.get_depth()"
      ],
      "metadata": {
        "id": "o1Mq089m_-yN",
        "colab": {
          "base_uri": "https://localhost:8080/"
        },
        "outputId": "5cf62741-53ae-483c-a25e-7047c8ee855e"
      },
      "execution_count": 66,
      "outputs": [
        {
          "output_type": "execute_result",
          "data": {
            "text/plain": [
              "9"
            ]
          },
          "metadata": {},
          "execution_count": 66
        }
      ]
    },
    {
      "cell_type": "markdown",
      "source": [
        "**Awesome progress if you've come this far! **\n",
        "\n",
        "Extra credit - Why don't we play with the hyperparameters we discussed earlier to see how our model changes?\n",
        "\n",
        "check the documentation and choose the hyperparameters you like: \n",
        "https://scikit-learn.org/stable/modules/generated/sklearn.tree.DecisionTreeClassifier.html#sklearn.tree.DecisionTreeClassifier"
      ],
      "metadata": {
        "id": "-V-o7MoM-Fr_"
      }
    },
    {
      "cell_type": "code",
      "source": [
        "# initialize your classifier again but this time with the hyperparamers you want\n"
      ],
      "metadata": {
        "id": "IRZfYc71-hkr"
      },
      "execution_count": null,
      "outputs": []
    },
    {
      "cell_type": "code",
      "source": [
        "## fit your classifier to the data using the .fit() method\n",
        "# predict train set values\n",
        "# predict test set values"
      ],
      "metadata": {
        "id": "ZTdfMWMFAazl"
      },
      "execution_count": null,
      "outputs": []
    },
    {
      "cell_type": "code",
      "source": [
        "# check accuracy on training set\n",
        "# check accuracy on testing set"
      ],
      "metadata": {
        "id": "phfiRnfwAepX"
      },
      "execution_count": null,
      "outputs": []
    },
    {
      "cell_type": "code",
      "source": [
        "# visualize your tree\n",
        " tree.plot_tree(model)"
      ],
      "metadata": {
        "id": "Tqv6HWdhAhUT"
      },
      "execution_count": null,
      "outputs": []
    },
    {
      "cell_type": "markdown",
      "source": [
        "# Reflect on your results"
      ],
      "metadata": {
        "id": "axih8x0MAkHM"
      }
    },
    {
      "cell_type": "markdown",
      "source": [],
      "metadata": {
        "id": "fOXSQKL6Xcti"
      }
    }
  ]
}